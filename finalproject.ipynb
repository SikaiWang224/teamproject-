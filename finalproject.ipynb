{
 "cells": [
  {
   "cell_type": "code",
   "execution_count": 5,
   "id": "b228bbb8-0a37-4568-81c5-692d895c10dd",
   "metadata": {
    "tags": []
   },
   "outputs": [
    {
     "ename": "ImportError",
     "evalue": "cannot import name 'xpath' from 'cssselect' (unknown location)",
     "output_type": "error",
     "traceback": [
      "\u001b[1;31m---------------------------------------------------------------------------\u001b[0m",
      "\u001b[1;31mImportError\u001b[0m                               Traceback (most recent call last)",
      "Cell \u001b[1;32mIn[5], line 11\u001b[0m\n\u001b[0;32m      8\u001b[0m \u001b[38;5;28;01mimport\u001b[39;00m \u001b[38;5;21;01mrequests\u001b[39;00m\n\u001b[0;32m      9\u001b[0m session \u001b[38;5;241m=\u001b[39m requests\u001b[38;5;241m.\u001b[39mSession()\n\u001b[1;32m---> 11\u001b[0m \u001b[38;5;28;01mfrom\u001b[39;00m \u001b[38;5;21;01mrequests_html\u001b[39;00m \u001b[38;5;28;01mimport\u001b[39;00m HTMLSession\n\u001b[0;32m     12\u001b[0m \u001b[38;5;28;01mimport\u001b[39;00m \u001b[38;5;21;01mnumpy\u001b[39;00m \u001b[38;5;28;01mas\u001b[39;00m \u001b[38;5;21;01mnp\u001b[39;00m\n\u001b[0;32m     13\u001b[0m \u001b[38;5;28;01mimport\u001b[39;00m \u001b[38;5;21;01mpandas\u001b[39;00m \u001b[38;5;28;01mas\u001b[39;00m \u001b[38;5;21;01mpd\u001b[39;00m\n",
      "File \u001b[1;32m~\\anaconda3\\lib\\site-packages\\requests_html.py:11\u001b[0m\n\u001b[0;32m      9\u001b[0m \u001b[38;5;28;01mimport\u001b[39;00m \u001b[38;5;21;01mpyppeteer\u001b[39;00m\n\u001b[0;32m     10\u001b[0m \u001b[38;5;28;01mimport\u001b[39;00m \u001b[38;5;21;01mrequests\u001b[39;00m\n\u001b[1;32m---> 11\u001b[0m \u001b[38;5;28;01mfrom\u001b[39;00m \u001b[38;5;21;01mpyquery\u001b[39;00m \u001b[38;5;28;01mimport\u001b[39;00m PyQuery\n\u001b[0;32m     13\u001b[0m \u001b[38;5;28;01mfrom\u001b[39;00m \u001b[38;5;21;01mfake_useragent\u001b[39;00m \u001b[38;5;28;01mimport\u001b[39;00m UserAgent\n\u001b[0;32m     14\u001b[0m \u001b[38;5;28;01mfrom\u001b[39;00m \u001b[38;5;21;01mlxml\u001b[39;00m\u001b[38;5;21;01m.\u001b[39;00m\u001b[38;5;21;01mhtml\u001b[39;00m\u001b[38;5;21;01m.\u001b[39;00m\u001b[38;5;21;01mclean\u001b[39;00m \u001b[38;5;28;01mimport\u001b[39;00m Cleaner\n",
      "File \u001b[1;32m~\\anaconda3\\lib\\site-packages\\pyquery\\__init__.py:5\u001b[0m\n\u001b[0;32m      1\u001b[0m \u001b[38;5;66;03m# Copyright (C) 2008 - Olivier Lauzanne <olauzanne@gmail.com>\u001b[39;00m\n\u001b[0;32m      2\u001b[0m \u001b[38;5;66;03m#\u001b[39;00m\n\u001b[0;32m      3\u001b[0m \u001b[38;5;66;03m# Distributed under the BSD license, see LICENSE.txt\u001b[39;00m\n\u001b[1;32m----> 5\u001b[0m \u001b[38;5;28;01mfrom\u001b[39;00m \u001b[38;5;21;01m.\u001b[39;00m\u001b[38;5;21;01mpyquery\u001b[39;00m \u001b[38;5;28;01mimport\u001b[39;00m PyQuery\n",
      "File \u001b[1;32m~\\anaconda3\\lib\\site-packages\\pyquery\\pyquery.py:4\u001b[0m\n\u001b[0;32m      1\u001b[0m \u001b[38;5;66;03m# Copyright (C) 2008 - Olivier Lauzanne <olauzanne@gmail.com>\u001b[39;00m\n\u001b[0;32m      2\u001b[0m \u001b[38;5;66;03m#\u001b[39;00m\n\u001b[0;32m      3\u001b[0m \u001b[38;5;66;03m# Distributed under the BSD license, see LICENSE.txt\u001b[39;00m\n\u001b[1;32m----> 4\u001b[0m \u001b[38;5;28;01mfrom\u001b[39;00m \u001b[38;5;21;01m.\u001b[39;00m\u001b[38;5;21;01mcssselectpatch\u001b[39;00m \u001b[38;5;28;01mimport\u001b[39;00m JQueryTranslator\n\u001b[0;32m      5\u001b[0m \u001b[38;5;28;01mfrom\u001b[39;00m \u001b[38;5;21;01mcollections\u001b[39;00m \u001b[38;5;28;01mimport\u001b[39;00m OrderedDict\n\u001b[0;32m      6\u001b[0m \u001b[38;5;28;01mfrom\u001b[39;00m \u001b[38;5;21;01murllib\u001b[39;00m\u001b[38;5;21;01m.\u001b[39;00m\u001b[38;5;21;01mparse\u001b[39;00m \u001b[38;5;28;01mimport\u001b[39;00m urlencode\n",
      "File \u001b[1;32m~\\anaconda3\\lib\\site-packages\\pyquery\\cssselectpatch.py:5\u001b[0m\n\u001b[0;32m      1\u001b[0m \u001b[38;5;66;03m# Copyright (C) 2008 - Olivier Lauzanne <olauzanne@gmail.com>\u001b[39;00m\n\u001b[0;32m      2\u001b[0m \u001b[38;5;66;03m#\u001b[39;00m\n\u001b[0;32m      3\u001b[0m \u001b[38;5;66;03m# Distributed under the BSD license, see LICENSE.txt\u001b[39;00m\n\u001b[0;32m      4\u001b[0m \u001b[38;5;28;01mfrom\u001b[39;00m \u001b[38;5;21;01m__future__\u001b[39;00m \u001b[38;5;28;01mimport\u001b[39;00m unicode_literals\n\u001b[1;32m----> 5\u001b[0m \u001b[38;5;28;01mfrom\u001b[39;00m \u001b[38;5;21;01mcssselect\u001b[39;00m \u001b[38;5;28;01mimport\u001b[39;00m xpath \u001b[38;5;28;01mas\u001b[39;00m cssselect_xpath\n\u001b[0;32m      6\u001b[0m \u001b[38;5;28;01mfrom\u001b[39;00m \u001b[38;5;21;01mcssselect\u001b[39;00m\u001b[38;5;21;01m.\u001b[39;00m\u001b[38;5;21;01mxpath\u001b[39;00m \u001b[38;5;28;01mimport\u001b[39;00m ExpressionError\n\u001b[0;32m      8\u001b[0m XPathExprOrig \u001b[38;5;241m=\u001b[39m cssselect_xpath\u001b[38;5;241m.\u001b[39mXPathExpr\n",
      "\u001b[1;31mImportError\u001b[0m: cannot import name 'xpath' from 'cssselect' (unknown location)"
     ]
    }
   ],
   "source": [
    "import fnmatch\n",
    "import glob\n",
    "import os\n",
    "import re\n",
    "from time import sleep\n",
    "from zipfile import ZipFile\n",
    "from datetime import datetime, timedelta\n",
    "import requests\n",
    "session = requests.Session()\n",
    "\n",
    "from requests_html import HTMLSession\n",
    "import numpy as np\n",
    "import pandas as pd\n",
    "from bs4 import BeautifulSoup\n",
    "from tqdm import tqdm  # progress bar on loops\n",
    "from io import BytesIO\n",
    "from zipfile import ZipFile\n",
    "from urllib.request import urlopen\n",
    "import PyPDF2\n",
    "import matplotlib.pyplot as plt"
   ]
  },
  {
   "cell_type": "code",
   "execution_count": null,
   "id": "cca77add-0bce-4675-bd43-14b6a785d659",
   "metadata": {},
   "outputs": [],
   "source": [
    "pip uninstall cssselect"
   ]
  },
  {
   "cell_type": "code",
   "execution_count": null,
   "id": "1d7cfe1c-3ad9-4d61-9b76-b500afd53185",
   "metadata": {
    "tags": []
   },
   "outputs": [],
   "source": [
    "xlb = pd.read_csv('ETFdata/XLB.csv')\n",
    "xle = pd.read_csv('ETFdata/XLE.csv')\n",
    "xlf = pd.read_csv('ETFdata/XLF.csv')\n",
    "xli = pd.read_csv('ETFdata/XLI.csv')\n",
    "xlk = pd.read_csv('ETFdata/XLK.csv')\n",
    "xlp = pd.read_csv('ETFdata/XLP.csv')\n",
    "xlre = pd.read_csv('ETFdata/XLRE.csv')\n",
    "xlu = pd.read_csv('ETFdata/XLU.csv')\n",
    "xlv = pd.read_csv('ETFdata/XLV.csv')\n",
    "xly = pd.read_csv('ETFdata/XLY.csv')\n",
    "xlc = pd.read_csv('ETFdata/XLc.csv')"
   ]
  },
  {
   "cell_type": "code",
   "execution_count": null,
   "id": "46a5c873-a87f-48f6-8a0a-d8989a82964b",
   "metadata": {
    "tags": []
   },
   "outputs": [],
   "source": [
    "dfs = pd.concat([xlb, xle, xlf, xli, xlk, xlp, xlre, xlu, xlv, xly, xlc], ignore_index=True)\n",
    "dfs"
   ]
  },
  {
   "cell_type": "code",
   "execution_count": null,
   "id": "42c2791b-bb2e-4c96-aad4-36d514b065a0",
   "metadata": {
    "tags": []
   },
   "outputs": [],
   "source": [
    "announce_date = pd.DataFrame({'Date': ['2021/09/24', '2021/11/09', '2021/11/29', '2022/03/21', '2022/05/24', '2022/06/17', '2022/08/26', '2022/09/28', '2022/11/30', '2023/01/11']})\n",
    "announce_date['Date'] = pd.to_datetime(announce_date['Date'])"
   ]
  },
  {
   "cell_type": "code",
   "execution_count": null,
   "id": "312cb0df-bdeb-4744-98fc-505cf78da36e",
   "metadata": {
    "tags": []
   },
   "outputs": [],
   "source": [
    "dfs['Date'] = pd.to_datetime(dfs['Date'])"
   ]
  },
  {
   "cell_type": "code",
   "execution_count": null,
   "id": "47705ade-a2e1-4c49-8354-7e82251c8b8c",
   "metadata": {
    "tags": []
   },
   "outputs": [],
   "source": [
    "df = pd.merge(dfs, announce_date, on='Date')\n",
    "\n",
    "dates = pd.date_range(df['Date'].min()-pd.Timedelta(days=10), df['Date'].max()+pd.Timedelta(days=10), freq='D')\n",
    "\n",
    "returns = []\n",
    "for date in dates:\n",
    "    for ticker in dfs['Ticker'].unique():\n",
    "        mask = (dfs['Date'] == date) & (dfs['Ticker'] == ticker)\n",
    "        df_temp = dfs.loc[mask, :]\n",
    "        if not df_temp.empty:\n",
    "            returns.append({'Date': date, 'Ticker': ticker, 'Return': df_temp['Return'].values[0]})\n",
    "        \n",
    "\n",
    "returns = pd.DataFrame(returns)\n",
    "print(returns)"
   ]
  },
  {
   "cell_type": "code",
   "execution_count": null,
   "id": "8ad70ac0-c5b2-4666-b7a1-7f6cddaab8c8",
   "metadata": {
    "tags": []
   },
   "outputs": [],
   "source": [
    "ticker_group = returns.groupby('Ticker')\n",
    "\n",
    "fig, ax = plt.subplots(figsize=(12, 6))\n",
    "for ticker, data in ticker_group:\n",
    "    ax.plot(data['Date'], data['Return'], label=ticker)\n",
    "\n",
    "ax.set_xlabel('Date')\n",
    "ax.set_ylabel('Return')\n",
    "ax.set_title('Time Series by Ticker')\n",
    "ax.legend()\n",
    "\n",
    "plt.show()"
   ]
  },
  {
   "cell_type": "code",
   "execution_count": null,
   "id": "2af714f2-7ea6-4974-bd33-bebdc74ab01d",
   "metadata": {
    "tags": []
   },
   "outputs": [],
   "source": [
    "ticker_groups = returns.groupby('Ticker')\n",
    "ticker_groups\n",
    "# 绘制时间序列\n",
    "for ticker, data in ticker_groups:\n",
    "    fig, ax = plt.subplots(figsize=(12, 6))\n",
    "    ax.plot(data['Date'], data['Return'])\n",
    "    ax.set_xlabel('Date')\n",
    "    ax.set_ylabel('Return')\n",
    "    ax.set_title(f'Time Series for {ticker}')\n",
    "    plt.show()"
   ]
  },
  {
   "cell_type": "code",
   "execution_count": null,
   "id": "3f519029-73d2-47a4-aa1a-966ed2fbf329",
   "metadata": {
    "tags": []
   },
   "outputs": [],
   "source": [
    "!pip install nltk"
   ]
  },
  {
   "cell_type": "code",
   "execution_count": null,
   "id": "332d3bc6-0ce5-4a45-acec-1644c6fe01d8",
   "metadata": {},
   "outputs": [],
   "source": [
    "fed_20210924 = PyPDF2.PdfReader('Fed/20210924.pdf')\n",
    "fed_20211109 = PyPDF2.PdfReader('Fed/20211109.pdf')\n",
    "fed_20211129 = PyPDF2.PdfReader('Fed/20211129.pdf')\n",
    "fed_20220321 = PyPDF2.PdfReader('Fed/20220321.pdf')\n",
    "fed_20220524 = PyPDF2.PdfReader('Fed/20220524.pdf')\n",
    "fed_20220617 = PyPDF2.PdfReader('Fed/20220617.pdf')\n",
    "fed_20220826 = PyPDF2.PdfReader('Fed/20220826.pdf')\n",
    "fed_20220928 = PyPDF2.PdfReader('Fed/20220928.pdf')\n",
    "fed_20221130 = PyPDF2.PdfReader('Fed/20221130.pdf')\n",
    "fed_20230110 = PyPDF2.PdfReader('Fed/20230110.pdf')"
   ]
  },
  {
   "cell_type": "code",
   "execution_count": 2,
   "id": "cb08f7f2-f4f8-4fd2-baec-76f09f9a77b5",
   "metadata": {
    "tags": []
   },
   "outputs": [
    {
     "name": "stdout",
     "output_type": "stream",
     "text": [
      "{'20210924': 3, '20211109': 16, '20211129': 18, '20220321': 3, '20220524': 21, '20220617': 6, '20220826': 7, '20220928': 9, '20221130': 23, '20230110': -7}\n"
     ]
    }
   ],
   "source": [
    "import PyPDF2\n",
    "from nltk import word_tokenize\n",
    "\n",
    "# Load sentiment words from files\n",
    "def load_sentiment_words(file):\n",
    "    with open(file, 'r') as f:\n",
    "        words = [line.strip() for line in f.readlines()]\n",
    "    return words\n",
    "\n",
    "positive_words = load_sentiment_words('Sentiment/ML_positive_unigram.txt')\n",
    "negative_words = load_sentiment_words('Sentiment/ML_negative_unigram.txt')\n",
    "\n",
    "# Calculate sentiment score using custom sentiment word lists\n",
    "def custom_sentiment_score(text):\n",
    "    tokenized_text = word_tokenize(text)\n",
    "    positive_count = sum([1 for word in tokenized_text if word.lower() in positive_words])\n",
    "    negative_count = sum([1 for word in tokenized_text if word.lower() in negative_words])\n",
    "    return positive_count - negative_count\n",
    "\n",
    "# Read PDF files and calculate sentiment scores\n",
    "announcement_files = {\n",
    "    '20210924': 'Fed/20210924.pdf',\n",
    "    '20211109': 'Fed/20211109.pdf',\n",
    "    '20211129': 'Fed/20211129.pdf',\n",
    "    '20220321': 'Fed/20220321.pdf',\n",
    "    '20220524': 'Fed/20220524.pdf',\n",
    "    '20220617': 'Fed/20220617.pdf',\n",
    "    '20220826': 'Fed/20220826.pdf',\n",
    "    '20220928': 'Fed/20220928.pdf',\n",
    "    '20221130': 'Fed/20221130.pdf',\n",
    "    '20230110': 'Fed/20230110.pdf',\n",
    "}\n",
    "\n",
    "sentiment_scores = {}\n",
    "\n",
    "for date, file in announcement_files.items():\n",
    "    with open(file, 'rb') as f:\n",
    "        pdf_reader = PyPDF2.PdfReader(f)\n",
    "        text = ''\n",
    "        for page in pdf_reader.pages:\n",
    "            text += page.extract_text()\n",
    "        sentiment_scores[date] = custom_sentiment_score(text)\n",
    "\n",
    "print(sentiment_scores)"
   ]
  }
 ],
 "metadata": {
  "kernelspec": {
   "display_name": "Python 3 (ipykernel)",
   "language": "python",
   "name": "python3"
  },
  "language_info": {
   "codemirror_mode": {
    "name": "ipython",
    "version": 3
   },
   "file_extension": ".py",
   "mimetype": "text/x-python",
   "name": "python",
   "nbconvert_exporter": "python",
   "pygments_lexer": "ipython3",
   "version": "3.10.9"
  }
 },
 "nbformat": 4,
 "nbformat_minor": 5
}
